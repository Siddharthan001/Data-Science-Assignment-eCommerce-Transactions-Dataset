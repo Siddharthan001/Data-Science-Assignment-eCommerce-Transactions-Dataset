{
 "cells": [
  {
   "cell_type": "code",
   "execution_count": 1,
   "id": "f1fa444b",
   "metadata": {},
   "outputs": [],
   "source": [
    "import pandas as pd\n",
    "from sklearn.preprocessing import MinMaxScaler\n",
    "from sklearn.metrics.pairwise import cosine_similarity"
   ]
  },
  {
   "cell_type": "code",
   "execution_count": 2,
   "id": "3f92f818",
   "metadata": {},
   "outputs": [],
   "source": [
    "# Load datasets\n",
    "customers = pd.read_csv('Customers.csv')\n",
    "products = pd.read_csv('Products.csv')\n",
    "transactions = pd.read_csv('Transactions.csv')\n"
   ]
  },
  {
   "cell_type": "code",
   "execution_count": 3,
   "id": "6edb2192",
   "metadata": {},
   "outputs": [],
   "source": [
    "\n",
    "# Merge datasets for feature engineering\n",
    "merged = transactions.merge(customers, on='CustomerID').merge(products, on='ProductID')\n"
   ]
  },
  {
   "cell_type": "code",
   "execution_count": 5,
   "id": "b87ac8f8",
   "metadata": {},
   "outputs": [
    {
     "name": "stdout",
     "output_type": "stream",
     "text": [
      "Index(['TransactionID', 'CustomerID', 'ProductID', 'TransactionDate',\n",
      "       'Quantity', 'TotalValue', 'Price_x', 'CustomerName', 'Region',\n",
      "       'SignupDate', 'ProductName', 'Category', 'Price_y'],\n",
      "      dtype='object')\n"
     ]
    }
   ],
   "source": [
    "# Verify column names\n",
    "print(merged.columns)\n",
    "\n",
    "# Adjusting feature engineering if 'Price' column is missing\n",
    "customer_features = merged.groupby('CustomerID').agg({\n",
    "    'TotalValue': 'sum',  # Total revenue from transactions\n",
    "    'Quantity': 'sum',    # Total quantity purchased\n",
    "    'ProductID': 'count',  # Number of distinct products purchased\n",
    "    'Category': lambda x: x.mode()[0],  # Most purchased product category\n",
    "    'Region': 'first',     # Customer's region\n",
    "    'SignupDate': 'first'  # Customer's signup date\n",
    "}).reset_index()\n"
   ]
  },
  {
   "cell_type": "code",
   "execution_count": 6,
   "id": "35ce64ee",
   "metadata": {},
   "outputs": [],
   "source": [
    "\n",
    "# Encode categorical variables\n",
    "customer_features = pd.get_dummies(customer_features, columns=['Region', 'Category'], drop_first=True)\n"
   ]
  },
  {
   "cell_type": "code",
   "execution_count": 8,
   "id": "ffda5bbe",
   "metadata": {},
   "outputs": [
    {
     "name": "stdout",
     "output_type": "stream",
     "text": [
      "Columns in customer_features: Index(['CustomerID', 'TotalValue', 'Quantity', 'ProductID', 'SignupDate',\n",
      "       'Region_Europe', 'Region_North America', 'Region_South America',\n",
      "       'Category_Clothing', 'Category_Electronics', 'Category_Home Decor'],\n",
      "      dtype='object')\n",
      "Feature scaling completed successfully.\n"
     ]
    }
   ],
   "source": [
    "# Check columns in customer_features\n",
    "print(\"Columns in customer_features:\", customer_features.columns)\n",
    "\n",
    "# Adjust numeric features based on available columns\n",
    "numeric_features = [col for col in ['TotalValue', 'Quantity', 'Price'] if col in customer_features.columns]\n",
    "\n",
    "# Apply MinMaxScaler\n",
    "scaler = MinMaxScaler()\n",
    "customer_features[numeric_features] = scaler.fit_transform(customer_features[numeric_features])\n",
    "\n",
    "print(\"Feature scaling completed successfully.\")\n"
   ]
  },
  {
   "cell_type": "code",
   "execution_count": 10,
   "id": "e48c952e",
   "metadata": {},
   "outputs": [
    {
     "name": "stdout",
     "output_type": "stream",
     "text": [
      "Customer Features Types:\n",
      " CustomerID               object\n",
      "TotalValue              float64\n",
      "Quantity                float64\n",
      "ProductID                 int64\n",
      "SignupDate               object\n",
      "Region_Europe             uint8\n",
      "Region_North America      uint8\n",
      "Region_South America      uint8\n",
      "Category_Clothing         uint8\n",
      "Category_Electronics      uint8\n",
      "Category_Home Decor       uint8\n",
      "dtype: object\n",
      "Cosine similarity computed successfully.\n"
     ]
    }
   ],
   "source": [
    "# Check and select numeric columns\n",
    "print(\"Customer Features Types:\\n\", customer_features.dtypes)\n",
    "features_for_similarity = customer_features.select_dtypes(include=['float64', 'int64'])\n",
    "\n",
    "# If needed, encode categorical columns\n",
    "features_for_similarity = pd.get_dummies(customer_features.drop(columns=['SignupDate']), drop_first=True)\n",
    "\n",
    "# Compute similarity matrix\n",
    "similarity_matrix = cosine_similarity(features_for_similarity)\n",
    "similarity_df = pd.DataFrame(similarity_matrix, index=customer_features['CustomerID'], columns=customer_features['CustomerID'])\n",
    "\n",
    "print(\"Cosine similarity computed successfully.\")\n"
   ]
  },
  {
   "cell_type": "code",
   "execution_count": 11,
   "id": "0fb8e4f1",
   "metadata": {},
   "outputs": [],
   "source": [
    "# Generate Lookalike Recommendations\n",
    "lookalike_data = {}\n",
    "for customer_id in customer_features['CustomerID'][:20]:  # First 20 customers\n",
    "    similar_customers = similarity_df[customer_id].sort_values(ascending=False).iloc[1:4]\n",
    "    lookalike_data[customer_id] = list(similar_customers.index), list(similar_customers.values)"
   ]
  },
  {
   "cell_type": "code",
   "execution_count": 12,
   "id": "9b188b98",
   "metadata": {},
   "outputs": [],
   "source": [
    "# Save to Lookalike.csv\n",
    "lookalike_results = []\n",
    "for cust_id, (lookalikes, scores) in lookalike_data.items():\n",
    "    for lookalike, score in zip(lookalikes, scores):\n",
    "        lookalike_results.append({'cust_id': cust_id, 'lookalike': lookalike, 'score': score})\n",
    "\n",
    "lookalike_df = pd.DataFrame(lookalike_results)\n",
    "lookalike_df.to_csv('Lookalike.csv', index=False)"
   ]
  },
  {
   "cell_type": "code",
   "execution_count": 13,
   "id": "240670a8",
   "metadata": {},
   "outputs": [
    {
     "name": "stdout",
     "output_type": "stream",
     "text": [
      "Lookalike.csv generated successfully.\n"
     ]
    }
   ],
   "source": [
    "print(\"Lookalike.csv generated successfully.\")"
   ]
  }
 ],
 "metadata": {
  "kernelspec": {
   "display_name": "Python 3 (ipykernel)",
   "language": "python",
   "name": "python3"
  },
  "language_info": {
   "codemirror_mode": {
    "name": "ipython",
    "version": 3
   },
   "file_extension": ".py",
   "mimetype": "text/x-python",
   "name": "python",
   "nbconvert_exporter": "python",
   "pygments_lexer": "ipython3",
   "version": "3.9.13"
  }
 },
 "nbformat": 4,
 "nbformat_minor": 5
}
